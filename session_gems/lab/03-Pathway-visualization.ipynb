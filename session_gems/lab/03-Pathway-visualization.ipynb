{
 "cells": [
  {
   "cell_type": "markdown",
   "metadata": {},
   "source": [
    "# Metabolic pathway maps"
   ]
  },
  {
   "cell_type": "markdown",
   "metadata": {},
   "source": [
    "## Metabolic pathway visualizations with Escher"
   ]
  },
  {
   "cell_type": "code",
   "execution_count": null,
   "metadata": {
    "collapsed": true
   },
   "outputs": [],
   "source": [
    "import escher"
   ]
  },
  {
   "cell_type": "markdown",
   "metadata": {},
   "source": [
    "Display all available maps in escher"
   ]
  },
  {
   "cell_type": "code",
   "execution_count": null,
   "metadata": {
    "scrolled": true
   },
   "outputs": [],
   "source": [
    "escher.list_available_maps()"
   ]
  },
  {
   "cell_type": "markdown",
   "metadata": {},
   "source": [
    "Display a map _E. coli_ central carbon metabolism."
   ]
  },
  {
   "cell_type": "code",
   "execution_count": null,
   "metadata": {},
   "outputs": [],
   "source": [
    "b = escher.Builder('e_coli_core.Core metabolism')\n",
    "escher.Builder.save_html(b, filepath='data/Ecoli_core_03')"
   ]
  },
  {
   "cell_type": "markdown",
   "metadata": {},
   "source": [
    "Visualize reaction-centric and/or metabolite-centric data."
   ]
  },
  {
   "cell_type": "code",
   "execution_count": null,
   "metadata": {},
   "outputs": [],
   "source": [
    "b = escher.Builder('e_coli_core.Core metabolism',\n",
    "               reaction_data={'PGK': 100},\n",
    "               metabolite_data={'ATP': 20})\n",
    "escher.Builder.save_html(b, filepath='data/Ecoli_core_031')"
   ]
  },
  {
   "cell_type": "markdown",
   "metadata": {
    "collapsed": true
   },
   "source": [
    "## Exercise (15 min)\n",
    "\n",
    "* Solve the _E. coli_ from the previous session and visualize the computed fluxes on the central carbon metabolism map.\n",
    "* Visualize the same flux distribution on another map (a list of available maps can be retrieved by running `escher.list_available_maps()`)"
   ]
  }
 ],
 "metadata": {
  "anaconda-cloud": {},
  "interpreter": {
   "hash": "d58dce0d622850efa13e08cf104c667c4bdb4553a145c7178045b065887c29a0"
  },
  "kernelspec": {
   "display_name": "Python 3.6.11 64-bit ('27410-course-materials': pyenv)",
   "name": "python3"
  },
  "language_info": {
   "codemirror_mode": {
    "name": "ipython",
    "version": 3
   },
   "file_extension": ".py",
   "mimetype": "text/x-python",
   "name": "python",
   "nbconvert_exporter": "python",
   "pygments_lexer": "ipython3",
   "version": "3.6.11"
  }
 },
 "nbformat": 4,
 "nbformat_minor": 1
}
